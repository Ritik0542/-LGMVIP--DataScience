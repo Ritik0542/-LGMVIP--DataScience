LGMVIP - DataScience Intern, April-2022
Author : Neetu Rani Paul
Task 4 :- Beginner Level
Image to Pencil Sketch with Python:
We need to read the image in RBG format and then convert it to a grayscale image. This will turn an image into a classic black and white photo. Then the next thing to do is invert the grayscale image also called negative image, this will be our inverted grayscale image. Inversion can be used to enhance details. Then we can finally create the pencil sketch by mixing the grayscale image with the inverted blurry image. This can be done by dividing the grayscale image by the inverted blurry image. Since images are just arrays, we can easily do this programmatically using the divide function from the cv2 library in Python.

Reference: https://thecleverprogrammer.com/2020/09/30/pencil-sketch-with-python/

Import Libraries
!pip install opencv-python
Collecting opencv-python
  Using cached opencv_python-4.5.5.64-cp36-abi3-win_amd64.whl (35.4 MB)
Requirement already satisfied: numpy>=1.17.3 in f:\decoder\jupyter notebook\lib\site-packages (from opencv-python) (1.20.1)
Installing collected packages: opencv-python
Successfully installed opencv-python-4.5.5.64
import cv2
from PIL import Image
from IPython.display import display
Read The Image
image = cv2.imread('F:\\Decoder\\Lets Grow More\\Saina_Nehwal_in_2011.jpg')
image = cv2.cvtColor(image,cv2.COLOR_BGR2RGB)
display(Image.fromarray(image))

convert image to a grayscale image
gray_image = cv2.cvtColor(image, cv2.COLOR_BGR2GRAY)
display(Image.fromarray(gray_image))

Here we can see classic black and white photo. Now we have to invert grayscale image(Negative image).
inverted_image = cv2.bitwise_not(gray_image)
display(Image.fromarray(inverted_image))

Now convert Negative image into blurry image
blurred_image = cv2.GaussianBlur(inverted_image, (21, 21), 0)
display(Image.fromarray(blurred_image))

Create the pencil sketch by mixing the grayscale image with the inverted blurry image.
inverted_blurred = cv2.bitwise_not(blurred_image)
pencil_sketch = cv2.divide(gray_image, inverted_blurred, scale=250.0)
display(Image.fromarray(pencil_sketch))

Here we convert trees image into pencile sketch.
Thank You !
